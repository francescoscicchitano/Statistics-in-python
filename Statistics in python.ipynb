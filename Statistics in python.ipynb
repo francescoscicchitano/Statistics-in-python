{
 "cells": [
  {
   "cell_type": "markdown",
   "metadata": {},
   "source": [
    "# Gestione dei numeri"
   ]
  },
  {
   "cell_type": "code",
   "execution_count": null,
   "metadata": {},
   "outputs": [],
   "source": [
    "7 + 4 # addizione"
   ]
  },
  {
   "cell_type": "code",
   "execution_count": null,
   "metadata": {},
   "outputs": [],
   "source": [
    "7 - 4 # sottrazione"
   ]
  },
  {
   "cell_type": "code",
   "execution_count": null,
   "metadata": {},
   "outputs": [],
   "source": [
    "7 * 4 # moltiplicazione"
   ]
  },
  {
   "cell_type": "code",
   "execution_count": null,
   "metadata": {},
   "outputs": [],
   "source": [
    "7 / 4 # divisione ritorna sempre un float"
   ]
  },
  {
   "cell_type": "code",
   "execution_count": null,
   "metadata": {},
   "outputs": [],
   "source": [
    "7 // 4 # ignora la parte frazionaria"
   ]
  },
  {
   "cell_type": "code",
   "execution_count": null,
   "metadata": {},
   "outputs": [],
   "source": [
    "7 % 4 # modulo"
   ]
  },
  {
   "cell_type": "code",
   "execution_count": null,
   "metadata": {},
   "outputs": [],
   "source": [
    "7 ** 4 # potenza di 4"
   ]
  },
  {
   "cell_type": "code",
   "execution_count": null,
   "metadata": {},
   "outputs": [],
   "source": [
    "7 > 4"
   ]
  },
  {
   "cell_type": "code",
   "execution_count": null,
   "metadata": {},
   "outputs": [],
   "source": [
    "7 >= 4"
   ]
  },
  {
   "cell_type": "code",
   "execution_count": null,
   "metadata": {},
   "outputs": [],
   "source": [
    "7 < 4"
   ]
  },
  {
   "cell_type": "code",
   "execution_count": null,
   "metadata": {},
   "outputs": [],
   "source": [
    "7 != 4"
   ]
  },
  {
   "cell_type": "code",
   "execution_count": null,
   "metadata": {},
   "outputs": [],
   "source": [
    "7 == 4"
   ]
  },
  {
   "cell_type": "code",
   "execution_count": null,
   "metadata": {},
   "outputs": [],
   "source": [
    "7 == 7"
   ]
  },
  {
   "cell_type": "markdown",
   "metadata": {},
   "source": [
    "# Assegnamento di una variabile"
   ]
  },
  {
   "cell_type": "code",
   "execution_count": null,
   "metadata": {},
   "outputs": [],
   "source": [
    "x = 100\n",
    "y = 3*4\n",
    "\n",
    "x - y"
   ]
  },
  {
   "cell_type": "code",
   "execution_count": null,
   "metadata": {},
   "outputs": [],
   "source": [
    "z"
   ]
  },
  {
   "cell_type": "markdown",
   "metadata": {},
   "source": [
    "# Tipo di dati e conversione"
   ]
  },
  {
   "cell_type": "code",
   "execution_count": null,
   "metadata": {},
   "outputs": [],
   "source": [
    "x = 5\n",
    "print(type(x))\n",
    "\n",
    "y = 5.0\n",
    "print(type(y))\n",
    "\n",
    "s = \"Hello World!\"\n",
    "print(type(s))"
   ]
  },
  {
   "cell_type": "code",
   "execution_count": null,
   "metadata": {},
   "outputs": [],
   "source": [
    "type(int(y))"
   ]
  },
  {
   "cell_type": "markdown",
   "metadata": {},
   "source": [
    "# Stringhe"
   ]
  },
  {
   "cell_type": "code",
   "execution_count": null,
   "metadata": {},
   "outputs": [],
   "source": [
    "a = 'Calabria'\n",
    "b = \"Calabria\"\n",
    "\n",
    "print(type(a))\n",
    "print(type(b))"
   ]
  },
  {
   "cell_type": "code",
   "execution_count": null,
   "metadata": {},
   "outputs": [],
   "source": [
    "print('Calabria \\nCosenza')"
   ]
  },
  {
   "cell_type": "code",
   "execution_count": null,
   "metadata": {},
   "outputs": [],
   "source": [
    "print(\"\"\"\\\n",
    "Cosenza è una città che si trova in:\n",
    "    Calabria\n",
    "\"\"\")"
   ]
  },
  {
   "cell_type": "code",
   "execution_count": null,
   "metadata": {},
   "outputs": [],
   "source": [
    "s1 = 'Hello'\n",
    "s2 = 'World'\n",
    "s3 = '!'\n",
    "\n",
    "s1 + ' ' + s2 + 2*s3"
   ]
  },
  {
   "cell_type": "code",
   "execution_count": null,
   "metadata": {},
   "outputs": [],
   "source": [
    "'Cal' 'abria'"
   ]
  },
  {
   "cell_type": "code",
   "execution_count": null,
   "metadata": {},
   "outputs": [],
   "source": [
    "a = 'Cal'\n",
    "\n",
    "a 'abria'"
   ]
  },
  {
   "cell_type": "code",
   "execution_count": null,
   "metadata": {},
   "outputs": [],
   "source": [
    "a = 'Cal'\n",
    "a + 'abria'"
   ]
  },
  {
   "cell_type": "markdown",
   "metadata": {},
   "source": [
    "# Indexing"
   ]
  },
  {
   "cell_type": "code",
   "execution_count": null,
   "metadata": {
    "scrolled": true
   },
   "outputs": [],
   "source": [
    "s = 'Cosenza'\n",
    "s[3]"
   ]
  },
  {
   "cell_type": "code",
   "execution_count": null,
   "metadata": {},
   "outputs": [],
   "source": [
    "s[-1]"
   ]
  },
  {
   "cell_type": "markdown",
   "metadata": {},
   "source": [
    "# Slicing"
   ]
  },
  {
   "cell_type": "code",
   "execution_count": null,
   "metadata": {},
   "outputs": [],
   "source": [
    "s = 'Cosenza'\n",
    "#s[1:3]\n",
    "\n",
    "s[::-2]"
   ]
  },
  {
   "cell_type": "code",
   "execution_count": null,
   "metadata": {},
   "outputs": [],
   "source": [
    "s[1:-2]"
   ]
  },
  {
   "cell_type": "code",
   "execution_count": null,
   "metadata": {},
   "outputs": [],
   "source": [
    "s[1:5:2]"
   ]
  },
  {
   "cell_type": "markdown",
   "metadata": {},
   "source": [
    "# Operatori di contenimento"
   ]
  },
  {
   "cell_type": "code",
   "execution_count": null,
   "metadata": {},
   "outputs": [],
   "source": [
    "s = 'Hello World!'\n",
    "'l' in s"
   ]
  },
  {
   "cell_type": "code",
   "execution_count": null,
   "metadata": {},
   "outputs": [],
   "source": [
    "'l' not in s"
   ]
  },
  {
   "cell_type": "code",
   "execution_count": null,
   "metadata": {},
   "outputs": [],
   "source": [
    "'z' in s"
   ]
  },
  {
   "cell_type": "code",
   "execution_count": null,
   "metadata": {},
   "outputs": [],
   "source": [
    "'z' not in s"
   ]
  },
  {
   "cell_type": "markdown",
   "metadata": {},
   "source": [
    "# Esercizio 1"
   ]
  },
  {
   "cell_type": "code",
   "execution_count": null,
   "metadata": {},
   "outputs": [],
   "source": [
    "s = 'abcd'\n",
    "new_s = s[-1] + s[-2] + s[-3] + s[-4]\n",
    "new_s"
   ]
  },
  {
   "cell_type": "markdown",
   "metadata": {},
   "source": [
    "# Esercizio 2"
   ]
  },
  {
   "cell_type": "code",
   "execution_count": null,
   "metadata": {},
   "outputs": [],
   "source": [
    "s = 'Hello World!'\n",
    "new_s = 10*s\n",
    "new_s"
   ]
  },
  {
   "cell_type": "markdown",
   "metadata": {},
   "source": [
    "# Esercizio 3"
   ]
  },
  {
   "cell_type": "code",
   "execution_count": null,
   "metadata": {},
   "outputs": [],
   "source": [
    "s = 'Oggi è una bella giornata'\n",
    "#operatore di in\n",
    "\n",
    "'una' in s"
   ]
  },
  {
   "cell_type": "markdown",
   "metadata": {},
   "source": [
    "# Liste"
   ]
  },
  {
   "cell_type": "code",
   "execution_count": null,
   "metadata": {},
   "outputs": [],
   "source": [
    "A = [1, 2, 3, 4]\n",
    "type(A)"
   ]
  },
  {
   "cell_type": "code",
   "execution_count": null,
   "metadata": {},
   "outputs": [],
   "source": [
    "B = [1, 2, 7, 4, 'ciao']\n",
    "type(B)"
   ]
  },
  {
   "cell_type": "code",
   "execution_count": null,
   "metadata": {},
   "outputs": [],
   "source": [
    "B[2]"
   ]
  },
  {
   "cell_type": "code",
   "execution_count": null,
   "metadata": {},
   "outputs": [],
   "source": [
    "B[1:3]"
   ]
  },
  {
   "cell_type": "code",
   "execution_count": null,
   "metadata": {},
   "outputs": [],
   "source": [
    "'ciao' in B"
   ]
  },
  {
   "cell_type": "code",
   "execution_count": null,
   "metadata": {},
   "outputs": [],
   "source": [
    "A = [ [1, 2], [3, 4]]\n",
    "type(A)"
   ]
  },
  {
   "cell_type": "code",
   "execution_count": null,
   "metadata": {},
   "outputs": [],
   "source": [
    "B = ['sole', 'luna']\n",
    "C = [20, 5]\n",
    "\n",
    "D = [B, C]\n",
    "D"
   ]
  },
  {
   "cell_type": "code",
   "execution_count": null,
   "metadata": {},
   "outputs": [],
   "source": [
    "D[0]"
   ]
  },
  {
   "cell_type": "code",
   "execution_count": null,
   "metadata": {},
   "outputs": [],
   "source": [
    "D[0][1]"
   ]
  },
  {
   "cell_type": "markdown",
   "metadata": {},
   "source": [
    "# Metodi delle liste"
   ]
  },
  {
   "cell_type": "code",
   "execution_count": null,
   "metadata": {},
   "outputs": [],
   "source": [
    "simpsons = ['homer', 'marge', 'bart']\n",
    "len(simpsons)"
   ]
  },
  {
   "cell_type": "code",
   "execution_count": null,
   "metadata": {},
   "outputs": [],
   "source": [
    "simpsons.append('lisa')\n",
    "simpsons"
   ]
  },
  {
   "cell_type": "code",
   "execution_count": null,
   "metadata": {},
   "outputs": [],
   "source": [
    "simpsons.extend(['milhouse', 'nelson'])\n",
    "simpsons"
   ]
  },
  {
   "cell_type": "code",
   "execution_count": null,
   "metadata": {},
   "outputs": [],
   "source": [
    "simpsons.insert(0, 'maggie')\n",
    "simpsons"
   ]
  },
  {
   "cell_type": "code",
   "execution_count": null,
   "metadata": {},
   "outputs": [],
   "source": [
    "simpsons.pop()"
   ]
  },
  {
   "cell_type": "code",
   "execution_count": null,
   "metadata": {},
   "outputs": [],
   "source": [
    "simpsons.remove('milhouse')\n",
    "simpsons"
   ]
  },
  {
   "cell_type": "code",
   "execution_count": null,
   "metadata": {},
   "outputs": [],
   "source": [
    "simpsons.sort()\n",
    "simpsons"
   ]
  },
  {
   "cell_type": "code",
   "execution_count": null,
   "metadata": {},
   "outputs": [],
   "source": [
    "sorted(simpsons, key=len)"
   ]
  },
  {
   "cell_type": "code",
   "execution_count": null,
   "metadata": {},
   "outputs": [],
   "source": [
    "sorted(simpsons, key=len, reverse=True)"
   ]
  },
  {
   "cell_type": "code",
   "execution_count": null,
   "metadata": {},
   "outputs": [],
   "source": [
    "simpsons.reverse()\n",
    "simpsons"
   ]
  },
  {
   "cell_type": "code",
   "execution_count": null,
   "metadata": {},
   "outputs": [],
   "source": [
    "list(reversed(simpsons))"
   ]
  },
  {
   "cell_type": "code",
   "execution_count": null,
   "metadata": {},
   "outputs": [],
   "source": [
    "simpsons.copy()"
   ]
  },
  {
   "cell_type": "code",
   "execution_count": null,
   "metadata": {},
   "outputs": [],
   "source": [
    "simpsons.count('bart')"
   ]
  },
  {
   "cell_type": "code",
   "execution_count": null,
   "metadata": {},
   "outputs": [],
   "source": [
    "simpsons.index('lisa')"
   ]
  },
  {
   "cell_type": "code",
   "execution_count": null,
   "metadata": {},
   "outputs": [],
   "source": [
    "simpsons.pop(3)"
   ]
  },
  {
   "cell_type": "code",
   "execution_count": null,
   "metadata": {},
   "outputs": [],
   "source": [
    "del simpsons[-1]\n",
    "simpsons"
   ]
  },
  {
   "cell_type": "code",
   "execution_count": null,
   "metadata": {},
   "outputs": [],
   "source": [
    "simpsons.clear()"
   ]
  },
  {
   "cell_type": "code",
   "execution_count": null,
   "metadata": {},
   "outputs": [],
   "source": [
    "simpsons"
   ]
  },
  {
   "cell_type": "markdown",
   "metadata": {},
   "source": [
    "# Esercizio 4"
   ]
  },
  {
   "cell_type": "code",
   "execution_count": null,
   "metadata": {},
   "outputs": [],
   "source": [
    "L = [0,1,2,3,4,5,6,7,8,9]\n",
    "pari = L[0:9:2]\n",
    "dispari = L[1:9:2]\n",
    "\n",
    "print('Pari', pari)\n",
    "print('Dispari', dispari)"
   ]
  },
  {
   "cell_type": "markdown",
   "metadata": {},
   "source": [
    "# Esercizio 5"
   ]
  },
  {
   "cell_type": "code",
   "execution_count": null,
   "metadata": {},
   "outputs": [],
   "source": [
    "lista_1 = [1, 2, 3] # lista di interi\n",
    "lista_2 = ['1', '2', '3'] # lista di stringhe\n",
    "lista_3 = '[1, 2, 3]' # non è una lista, ma una stringa"
   ]
  },
  {
   "cell_type": "markdown",
   "metadata": {},
   "source": [
    "# Tuple"
   ]
  },
  {
   "cell_type": "code",
   "execution_count": null,
   "metadata": {},
   "outputs": [],
   "source": [
    "T = 'ABC', 'DEF'\n",
    "type(T)"
   ]
  },
  {
   "cell_type": "code",
   "execution_count": null,
   "metadata": {},
   "outputs": [],
   "source": [
    "T = ('ABC', 'DEF')\n",
    "type(T)"
   ]
  },
  {
   "cell_type": "code",
   "execution_count": null,
   "metadata": {},
   "outputs": [],
   "source": [
    "T = 'ABC',\n",
    "type(T)"
   ]
  },
  {
   "cell_type": "code",
   "execution_count": null,
   "metadata": {},
   "outputs": [],
   "source": [
    "T = ('ABC',)\n",
    "type(T)"
   ]
  },
  {
   "cell_type": "code",
   "execution_count": null,
   "metadata": {},
   "outputs": [],
   "source": [
    "T = (0, 1, 'two', 1, 0)\n",
    "len(T)"
   ]
  },
  {
   "cell_type": "code",
   "execution_count": null,
   "metadata": {},
   "outputs": [],
   "source": [
    "T[-1]"
   ]
  },
  {
   "cell_type": "code",
   "execution_count": null,
   "metadata": {},
   "outputs": [],
   "source": [
    "T.count(0)"
   ]
  },
  {
   "cell_type": "code",
   "execution_count": null,
   "metadata": {},
   "outputs": [],
   "source": [
    "T.index(1)"
   ]
  },
  {
   "cell_type": "code",
   "execution_count": null,
   "metadata": {},
   "outputs": [],
   "source": [
    "T = T + (5, 6)\n",
    "T"
   ]
  },
  {
   "cell_type": "code",
   "execution_count": null,
   "metadata": {},
   "outputs": [],
   "source": [
    "(0, 1) * 3"
   ]
  },
  {
   "cell_type": "markdown",
   "metadata": {},
   "source": [
    "# Dizionari"
   ]
  },
  {
   "cell_type": "code",
   "execution_count": null,
   "metadata": {},
   "outputs": [],
   "source": [
    "D = {}\n",
    "D = dict()\n",
    "type (D)"
   ]
  },
  {
   "cell_type": "code",
   "execution_count": null,
   "metadata": {},
   "outputs": [],
   "source": [
    "D['178'] = 'Angelica'\n",
    "D"
   ]
  },
  {
   "cell_type": "code",
   "execution_count": null,
   "metadata": {},
   "outputs": [],
   "source": [
    "students = {'178': 'Angelica', '189': 'Francesco'}\n",
    "students['189']"
   ]
  },
  {
   "cell_type": "code",
   "execution_count": null,
   "metadata": {},
   "outputs": [],
   "source": [
    "list_of_tuple = [('178', 'Angelica'), ('189', 'Francesco')]\n",
    "print(list_of_tuple)\n",
    "students = dict(list_of_tuple)\n",
    "students"
   ]
  },
  {
   "cell_type": "code",
   "execution_count": null,
   "metadata": {},
   "outputs": [],
   "source": [
    "from collections import defaultdict\n",
    "d = defaultdict(int)\n",
    "print(d)\n",
    "\n",
    "d['a']"
   ]
  },
  {
   "cell_type": "code",
   "execution_count": null,
   "metadata": {},
   "outputs": [],
   "source": [
    "d"
   ]
  },
  {
   "cell_type": "markdown",
   "metadata": {},
   "source": [
    "# Metodi dei dizionari"
   ]
  },
  {
   "cell_type": "code",
   "execution_count": null,
   "metadata": {},
   "outputs": [],
   "source": [
    "len(students)"
   ]
  },
  {
   "cell_type": "code",
   "execution_count": null,
   "metadata": {},
   "outputs": [],
   "source": [
    "students.items()"
   ]
  },
  {
   "cell_type": "code",
   "execution_count": null,
   "metadata": {},
   "outputs": [],
   "source": [
    "students.keys()"
   ]
  },
  {
   "cell_type": "code",
   "execution_count": null,
   "metadata": {},
   "outputs": [],
   "source": [
    "students.values()"
   ]
  },
  {
   "cell_type": "code",
   "execution_count": null,
   "metadata": {},
   "outputs": [],
   "source": [
    "students.get('178', 'not found')"
   ]
  },
  {
   "cell_type": "code",
   "execution_count": null,
   "metadata": {},
   "outputs": [],
   "source": [
    "students.get('200', 'not found')"
   ]
  },
  {
   "cell_type": "code",
   "execution_count": null,
   "metadata": {},
   "outputs": [],
   "source": [
    "students_2 = {'210': 'Giuseppe'}\n",
    "\n",
    "students.update(students_2)\n",
    "students"
   ]
  },
  {
   "cell_type": "code",
   "execution_count": null,
   "metadata": {},
   "outputs": [],
   "source": [
    "students.pop('210', 'not found')"
   ]
  },
  {
   "cell_type": "code",
   "execution_count": null,
   "metadata": {},
   "outputs": [],
   "source": [
    "students"
   ]
  },
  {
   "cell_type": "code",
   "execution_count": null,
   "metadata": {},
   "outputs": [],
   "source": [
    "students.popitem()"
   ]
  },
  {
   "cell_type": "code",
   "execution_count": null,
   "metadata": {},
   "outputs": [],
   "source": [
    "students.copy()"
   ]
  },
  {
   "cell_type": "code",
   "execution_count": null,
   "metadata": {},
   "outputs": [],
   "source": [
    "students.clear()\n",
    "students"
   ]
  },
  {
   "cell_type": "markdown",
   "metadata": {},
   "source": [
    "# Esercizio 6"
   ]
  },
  {
   "cell_type": "code",
   "execution_count": null,
   "metadata": {},
   "outputs": [],
   "source": [
    "# Modo 1: in una sola riga di codice\n",
    "pronomi_personali = {1: 'io', 2: 'tu', 3: ['egli', 'esso', 'lui', 'ella', 'essa', 'lei'],\n",
    "                    4: 'noi', 5: 'voi', 6: ['loro', 'essi', 'esse']}\n",
    "\n",
    "# Modo 2: creare prima un dict vuoto e aggiungere le coppie passo passo\n",
    "pronomi_personali = dict()\n",
    "pronomi_personali[1] = 'io'\n",
    "pronomi_personali[2] = 'tu'\n",
    "pronomi_personali[3] = ['egli', 'esso', 'lui', 'ella', 'essa', 'lei']\n",
    "pronomi_personali[4] = 'noi' \n",
    "pronomi_personali[5] = 'voi'\n",
    "pronomi_personali[6] = ['loro', 'essi', 'esse']\n"
   ]
  },
  {
   "cell_type": "markdown",
   "metadata": {},
   "source": [
    "# Set"
   ]
  },
  {
   "cell_type": "code",
   "execution_count": null,
   "metadata": {},
   "outputs": [],
   "source": [
    "baskets = {'apple', 'orange', 'banana', 'orange', 'kiwi'}\n",
    "\n",
    "print(baskets)"
   ]
  },
  {
   "cell_type": "markdown",
   "metadata": {},
   "source": [
    "# Frozenset"
   ]
  },
  {
   "cell_type": "code",
   "execution_count": null,
   "metadata": {},
   "outputs": [],
   "source": [
    "flowers = frozenset({'sunflower','tulip', 'lily'})"
   ]
  },
  {
   "cell_type": "code",
   "execution_count": null,
   "metadata": {},
   "outputs": [],
   "source": [
    "flowers"
   ]
  },
  {
   "cell_type": "code",
   "execution_count": null,
   "metadata": {},
   "outputs": [],
   "source": [
    "flowers.add('gardenia')"
   ]
  },
  {
   "cell_type": "markdown",
   "metadata": {},
   "source": [
    "# Metodi degli Insiemi"
   ]
  },
  {
   "cell_type": "code",
   "execution_count": null,
   "metadata": {},
   "outputs": [],
   "source": [
    "baskets.add('pear')\n",
    "baskets"
   ]
  },
  {
   "cell_type": "code",
   "execution_count": null,
   "metadata": {},
   "outputs": [],
   "source": [
    "baskets.remove('grapes')"
   ]
  },
  {
   "cell_type": "code",
   "execution_count": null,
   "metadata": {},
   "outputs": [],
   "source": [
    "baskets.discard('grapes')"
   ]
  },
  {
   "cell_type": "code",
   "execution_count": null,
   "metadata": {},
   "outputs": [],
   "source": [
    "baskets.pop()"
   ]
  },
  {
   "cell_type": "code",
   "execution_count": null,
   "metadata": {},
   "outputs": [],
   "source": [
    "baskets.clear()\n",
    "baskets"
   ]
  },
  {
   "cell_type": "markdown",
   "metadata": {},
   "source": [
    "# Eccezioni"
   ]
  },
  {
   "cell_type": "code",
   "execution_count": null,
   "metadata": {},
   "outputs": [],
   "source": [
    "try:\n",
    "    n = int('five')\n",
    "except ValueError as error:\n",
    "    print('Invalid number')"
   ]
  },
  {
   "cell_type": "code",
   "execution_count": null,
   "metadata": {},
   "outputs": [],
   "source": [
    "try:\n",
    "    n = int('five')\n",
    "except ValueError as error:\n",
    "    print('Invalid number')\n",
    "else:\n",
    "    print('Blocco else')\n",
    "finally:\n",
    "    print('Blocco Finally')"
   ]
  },
  {
   "cell_type": "code",
   "execution_count": null,
   "metadata": {},
   "outputs": [],
   "source": [
    "try:\n",
    "    n = int('5')\n",
    "except ValueError as error:\n",
    "    print('Invalid number')\n",
    "else:\n",
    "    print('Blocco else')\n",
    "finally:\n",
    "    print('Blocco Finally')"
   ]
  },
  {
   "cell_type": "code",
   "execution_count": null,
   "metadata": {},
   "outputs": [],
   "source": [
    "y = 0\n",
    "\n",
    "if y == 0:\n",
    "    raise ZeroDivisionError ('Il divisore deve essere diverso da 0')\n",
    "\n",
    "print(1/y)"
   ]
  },
  {
   "cell_type": "markdown",
   "metadata": {},
   "source": [
    "# If statement"
   ]
  },
  {
   "cell_type": "code",
   "execution_count": null,
   "metadata": {},
   "outputs": [],
   "source": [
    "x = 50\n",
    "# if statement\n",
    "if x > 0:\n",
    "    print('positive')"
   ]
  },
  {
   "cell_type": "code",
   "execution_count": null,
   "metadata": {},
   "outputs": [],
   "source": [
    "x = -3\n",
    "# if/else statement\n",
    "if x > 0:\n",
    "    print('positive')\n",
    "else:\n",
    "    print('zero or negative')\n",
    "\n",
    "# if/elif/else statement\n",
    "if x > 0:\n",
    "    print('positive')\n",
    "elif x == 0:\n",
    "    print('zero')\n",
    "else:\n",
    "    print('negative')"
   ]
  },
  {
   "cell_type": "markdown",
   "metadata": {},
   "source": [
    "# For statement"
   ]
  },
  {
   "cell_type": "code",
   "execution_count": null,
   "metadata": {},
   "outputs": [],
   "source": [
    "fruits = ['orange', 'apple', 'kiwi']\n",
    "\n",
    "for elem in fruits:\n",
    "    print(elem, len(elem))"
   ]
  },
  {
   "cell_type": "code",
   "execution_count": null,
   "metadata": {},
   "outputs": [],
   "source": [
    "for i in range(3):\n",
    "    print(i)"
   ]
  },
  {
   "cell_type": "code",
   "execution_count": null,
   "metadata": {},
   "outputs": [],
   "source": [
    "for i in range(1,4):\n",
    "    print(i)"
   ]
  },
  {
   "cell_type": "code",
   "execution_count": null,
   "metadata": {},
   "outputs": [],
   "source": [
    "for i in range(1,10,3):\n",
    "    print(i)"
   ]
  },
  {
   "cell_type": "markdown",
   "metadata": {},
   "source": [
    "# List comprehension"
   ]
  },
  {
   "cell_type": "code",
   "execution_count": null,
   "metadata": {},
   "outputs": [],
   "source": [
    "tuple_auto = ('Ferrari', 'Bugatti', 'Maserati', 'Porsche')\n",
    "\n",
    "lista_auto = [auto for auto in tuple_auto if auto != 'Porsche']\n",
    "print(lista_auto)"
   ]
  },
  {
   "cell_type": "markdown",
   "metadata": {},
   "source": [
    "# Costrutto while"
   ]
  },
  {
   "cell_type": "code",
   "execution_count": null,
   "metadata": {},
   "outputs": [],
   "source": [
    "n = 5\n",
    "count = 0\n",
    "\n",
    "while count < n:\n",
    "    print(count)\n",
    "    count += 1"
   ]
  },
  {
   "cell_type": "markdown",
   "metadata": {},
   "source": [
    "# Break, continue ed else per i cicli"
   ]
  },
  {
   "cell_type": "code",
   "execution_count": null,
   "metadata": {},
   "outputs": [],
   "source": [
    "fruits = ['orange', 'apple', 'kiwi']"
   ]
  },
  {
   "cell_type": "code",
   "execution_count": null,
   "metadata": {},
   "outputs": [],
   "source": [
    "for elem in fruits:\n",
    "    if elem == 'apple':\n",
    "        print('Found')\n",
    "        break\n",
    "    else:\n",
    "        print('Not found')"
   ]
  },
  {
   "cell_type": "code",
   "execution_count": null,
   "metadata": {},
   "outputs": [],
   "source": [
    "for elem in fruits:\n",
    "    if elem == 'apple':\n",
    "        print('Found')\n",
    "        continue\n",
    "    else:\n",
    "        print('Not found')"
   ]
  },
  {
   "cell_type": "markdown",
   "metadata": {},
   "source": [
    "# Definizione di una funzione"
   ]
  },
  {
   "cell_type": "code",
   "execution_count": null,
   "metadata": {},
   "outputs": [],
   "source": [
    "def area(width, height):\n",
    "    return width*height"
   ]
  },
  {
   "cell_type": "code",
   "execution_count": null,
   "metadata": {},
   "outputs": [],
   "source": [
    "area_ = area(3,5) # passiamo i parametri per posizione\n",
    "area_ = area(width=3, height=5) # per nome\n",
    "\n",
    "params = (3,5)\n",
    "area_ = area(*params) # i parametri sono contenuti in una seq\n",
    "area_"
   ]
  },
  {
   "cell_type": "code",
   "execution_count": null,
   "metadata": {},
   "outputs": [],
   "source": [
    "def area(width = 2, height = 5):\n",
    "    return width*height\n",
    "\n",
    "area_ = area()\n",
    "area_"
   ]
  },
  {
   "cell_type": "markdown",
   "metadata": {},
   "source": [
    "# Funzione zip"
   ]
  },
  {
   "cell_type": "code",
   "execution_count": null,
   "metadata": {},
   "outputs": [],
   "source": [
    "x = [1, 2, 3]\n",
    "y = [4, 5, 6]\n",
    "z = [7, 8, 9]\n",
    "\n",
    "aggr = zip(x,y,z)\n",
    "aggr = list(aggr)\n",
    "\n",
    "aggr"
   ]
  },
  {
   "cell_type": "markdown",
   "metadata": {},
   "source": [
    "# Funzione Lambda"
   ]
  },
  {
   "cell_type": "code",
   "execution_count": null,
   "metadata": {},
   "outputs": [],
   "source": [
    "(lambda a, b: a+b)(2,3)"
   ]
  },
  {
   "cell_type": "code",
   "execution_count": null,
   "metadata": {},
   "outputs": [],
   "source": [
    "(lambda x: 2*x)(4)"
   ]
  },
  {
   "cell_type": "code",
   "execution_count": null,
   "metadata": {},
   "outputs": [],
   "source": [
    "(lambda x,y: x/y)(16,4)"
   ]
  },
  {
   "cell_type": "markdown",
   "metadata": {},
   "source": [
    "# Esercizio 7"
   ]
  },
  {
   "cell_type": "code",
   "execution_count": null,
   "metadata": {},
   "outputs": [],
   "source": [
    "l = [3,54,76,12,20,100,43]\n",
    "\n",
    "l.sort()\n",
    "print(\"La lista in ordine crescente: \", l)\n",
    "l.sort(reverse = True)\n",
    "print(\"La lista in ordine decrescente: \", l)"
   ]
  },
  {
   "cell_type": "markdown",
   "metadata": {},
   "source": [
    "# Esercizio 8"
   ]
  },
  {
   "cell_type": "code",
   "execution_count": null,
   "metadata": {},
   "outputs": [],
   "source": [
    "nomi = ('Alessandro', 'Giovanni', 'Teresa')\n",
    "cognomi = ('Marzio', 'Greco', 'Ostilio')\n",
    "\n",
    "lista_ = []\n",
    "\n",
    "for nome, cognome in zip(nomi, cognomi):\n",
    "    lista_.append({'nome': nome, 'cognome':cognome})\n",
    "    \n",
    "print(lista_)\n",
    "#Alternativa\n",
    "\n",
    "lista = [{'nome': nome, 'cognome': cognome} for nome,\n",
    "         cognome in zip(nomi, cognomi)]\n"
   ]
  },
  {
   "cell_type": "markdown",
   "metadata": {},
   "source": [
    "# Esercizio 9"
   ]
  },
  {
   "cell_type": "code",
   "execution_count": null,
   "metadata": {},
   "outputs": [],
   "source": [
    "d = {'nome':'Antonio', 'cognome':'Scerbo'}\n",
    "d['sesso']= 'M'\n",
    "d['età']= 35\n",
    "d['residenza']=[{'comune':'Rende','provincia':'Cosenza'}]\n",
    "\n",
    "print(\"Le chiavi sono: \", d.keys())\n",
    "print()\n",
    "print(\"I valori sono: \", d.values())\n",
    "\n",
    "del d['età']\n",
    "print()\n",
    "print(\"Chiavi-valori aggiornati: \", d)"
   ]
  },
  {
   "cell_type": "markdown",
   "metadata": {},
   "source": [
    "# Esercizio 10"
   ]
  },
  {
   "cell_type": "code",
   "execution_count": null,
   "metadata": {},
   "outputs": [],
   "source": [
    "def somma(lista):\n",
    "    somma = 0\n",
    "    for a in lista:\n",
    "        somma += a\n",
    "    return somma\n",
    "\n",
    "lista = [2,5,3,7,2,8,3]\n",
    "print(\"La somma degli elementi della lista è: \", somma(lista))"
   ]
  },
  {
   "cell_type": "markdown",
   "metadata": {},
   "source": [
    "# Somma con lambda e reduce function"
   ]
  },
  {
   "cell_type": "code",
   "execution_count": null,
   "metadata": {},
   "outputs": [],
   "source": [
    "import functools \n",
    "\n",
    "l = [1,2,3] \n",
    "\n",
    "print (\"La somma degli elementi è :\",\n",
    "       functools.reduce(lambda a,b : a+b,l)) \n",
    "  "
   ]
  },
  {
   "cell_type": "markdown",
   "metadata": {},
   "source": [
    "# Somma con list comprehension"
   ]
  },
  {
   "cell_type": "code",
   "execution_count": null,
   "metadata": {},
   "outputs": [],
   "source": [
    "l = [1,2,3] \n",
    "somma = sum([x for x in l])\n",
    "somma"
   ]
  },
  {
   "cell_type": "markdown",
   "metadata": {},
   "source": [
    "# Esercizio 11"
   ]
  },
  {
   "cell_type": "code",
   "execution_count": null,
   "metadata": {},
   "outputs": [],
   "source": [
    "def compute(a, b, mes=None):\n",
    "    if mes == None:\n",
    "        return a + b\n",
    "    elif mes == 'sub':\n",
    "        return a - b\n",
    "    elif mes == 'mul':\n",
    "        return a*b\n",
    "    elif mes == 'div':\n",
    "        return a/b\n",
    "    else:\n",
    "        print('Operazione non riconosciuta')\n",
    "        return\n",
    "\n",
    "compute(4,5)\n",
    "compute(4,5, 'ads')"
   ]
  },
  {
   "cell_type": "markdown",
   "metadata": {},
   "source": [
    "# Esercizio 12"
   ]
  },
  {
   "cell_type": "code",
   "execution_count": null,
   "metadata": {},
   "outputs": [],
   "source": [
    "def converti_giorno(x):\n",
    "    \n",
    "    giorni = {1:'uno',2:'due',3:'tre',4:'quattro',5:'cinque',\n",
    "             6:'sei',7:'sette',8:'otto',9:'nove',10:'dieci',\n",
    "             11:'undici',12:'dodici',13:'tredici',14:'quattordici',15:'quindici',\n",
    "             16:'sedici',17:'diciassette',18:'diciotto',19:'diciannove',20:'venti',\n",
    "             21:'ventuno',22:'ventidue',23:'ventitre',24:'ventiquattro',25:'venticinque',\n",
    "             26:'ventisei',27:'ventisette',28:'ventotto',29:'ventinove',30:'trenta',\n",
    "             31:'trentuno'}\n",
    "    \n",
    "    return giorni[x]\n",
    "\n",
    "def converti_mese(x):\n",
    "    \n",
    "    mesi = {1:'Gennaio',2:'Febbraio',3:'Marzo',4:'Aprile',\n",
    "           5:'Maggio',6:'Giugno',7:'Luglio',8:'Agosto',\n",
    "           9:'Settembre',10:'Ottobre',11:'Novembre',\n",
    "           12:'Dicembre',}\n",
    "    \n",
    "    return mesi[x]\n",
    "\n",
    "def converti_data(d):\n",
    "    \n",
    "    giorno = converti_giorno(d[0])\n",
    "    mese = converti_mese(d[1])\n",
    "    \n",
    "    return (giorno,mese,d[2])\n",
    "    \n",
    "data = (14,8,2019)    \n",
    "converti_data(data)"
   ]
  },
  {
   "cell_type": "markdown",
   "metadata": {},
   "source": [
    "# Esercizio 13"
   ]
  },
  {
   "cell_type": "code",
   "execution_count": null,
   "metadata": {},
   "outputs": [],
   "source": [
    "def converti_inglese_italiano(parola):\n",
    "    \n",
    "    d = {'day':'giorno','lemon':'limone','apple':'mela',\n",
    "        'tulip':'tulipano','orange':'arancione','lily':'gliglio',\n",
    "        'book':'libro','yellow':'giallo','monday':'lunedì',\n",
    "        'window':'finestra'}\n",
    "    \n",
    "    return d.get(parola,0)\n",
    "\n",
    "print(converti_inglese_italiano('lemon'))\n",
    "print(converti_inglese_italiano('sun'))"
   ]
  },
  {
   "cell_type": "markdown",
   "metadata": {},
   "source": [
    "# Numpy"
   ]
  },
  {
   "cell_type": "code",
   "execution_count": null,
   "metadata": {},
   "outputs": [],
   "source": [
    "import numpy as np"
   ]
  },
  {
   "cell_type": "code",
   "execution_count": null,
   "metadata": {},
   "outputs": [],
   "source": [
    "d1 = [1, 2, 3]\n",
    "array1 = np.array(d1) # 1d array\n",
    "array1"
   ]
  },
  {
   "cell_type": "code",
   "execution_count": null,
   "metadata": {},
   "outputs": [],
   "source": [
    "d2 = [range(1,4), range(5,8)]\n",
    "array2 = np.array(d2) # 2d array\n",
    "array2"
   ]
  },
  {
   "cell_type": "markdown",
   "metadata": {},
   "source": [
    "# Arange"
   ]
  },
  {
   "cell_type": "code",
   "execution_count": null,
   "metadata": {},
   "outputs": [],
   "source": [
    "np.arange(3)"
   ]
  },
  {
   "cell_type": "code",
   "execution_count": null,
   "metadata": {},
   "outputs": [],
   "source": [
    "np.arange(3,7)"
   ]
  },
  {
   "cell_type": "code",
   "execution_count": null,
   "metadata": {},
   "outputs": [],
   "source": [
    "np.arange(3,7,2)"
   ]
  },
  {
   "cell_type": "code",
   "execution_count": null,
   "metadata": {},
   "outputs": [],
   "source": [
    "np.zeros(5) # 1d array di 0"
   ]
  },
  {
   "cell_type": "code",
   "execution_count": null,
   "metadata": {},
   "outputs": [],
   "source": [
    "np.zeros((3,6)) # 2d array dove ognuno ha 6 zero"
   ]
  },
  {
   "cell_type": "code",
   "execution_count": null,
   "metadata": {},
   "outputs": [],
   "source": [
    "np.ones(5) # 1d array di 1"
   ]
  },
  {
   "cell_type": "code",
   "execution_count": null,
   "metadata": {},
   "outputs": [],
   "source": [
    "np.full((3,4), 7) # 2d array tutti gli elementi 7"
   ]
  },
  {
   "cell_type": "code",
   "execution_count": null,
   "metadata": {},
   "outputs": [],
   "source": [
    "np.linspace(0, 1, 5) # 1d array da 0 a 1 (incluso) con 5 punti"
   ]
  },
  {
   "cell_type": "code",
   "execution_count": null,
   "metadata": {},
   "outputs": [],
   "source": [
    "np.logspace(0, 3, 4) # 1d array da 10^0 a 10^3 (incluso)\n",
    "                     # con 4 punti "
   ]
  },
  {
   "cell_type": "markdown",
   "metadata": {},
   "source": [
    "# Proprietà degli arrays"
   ]
  },
  {
   "cell_type": "code",
   "execution_count": null,
   "metadata": {},
   "outputs": [],
   "source": [
    "zeros_ =np.zeros((3)) # vettore\n",
    "zeros_"
   ]
  },
  {
   "cell_type": "code",
   "execution_count": null,
   "metadata": {},
   "outputs": [],
   "source": [
    "zeros_ =np.zeros((3,2)) # matrice\n",
    "zeros_"
   ]
  },
  {
   "cell_type": "code",
   "execution_count": null,
   "metadata": {},
   "outputs": [],
   "source": [
    "zeros_ =np.zeros((3,2,4)) # 3d array\n",
    "zeros_"
   ]
  },
  {
   "cell_type": "code",
   "execution_count": null,
   "metadata": {},
   "outputs": [],
   "source": [
    "zeros_ =np.zeros((3,2,4,5)) # 4d array\n",
    "zeros_"
   ]
  },
  {
   "cell_type": "code",
   "execution_count": null,
   "metadata": {},
   "outputs": [],
   "source": [
    "zeros_.dtype # tipo di dato degli elementi dell'array"
   ]
  },
  {
   "cell_type": "code",
   "execution_count": null,
   "metadata": {},
   "outputs": [],
   "source": [
    "zeros_.ndim # nd array"
   ]
  },
  {
   "cell_type": "code",
   "execution_count": null,
   "metadata": {},
   "outputs": [],
   "source": [
    "zeros_.shape # dimensioni dell'array (di ciascun asse)"
   ]
  },
  {
   "cell_type": "code",
   "execution_count": null,
   "metadata": {},
   "outputs": [],
   "source": [
    "zeros_.size # numero totale di elementi"
   ]
  },
  {
   "cell_type": "markdown",
   "metadata": {},
   "source": [
    "# Reshaping"
   ]
  },
  {
   "cell_type": "code",
   "execution_count": null,
   "metadata": {},
   "outputs": [],
   "source": [
    "array1 = np.array([[1,2], [3,4], [5,6]])\n",
    "print('Array1:')\n",
    "print(array1)\n",
    "array2 = array1.reshape((2,3))\n",
    "print('Array2:')\n",
    "print(array2)"
   ]
  },
  {
   "cell_type": "code",
   "execution_count": null,
   "metadata": {},
   "outputs": [],
   "source": [
    "array3 = array1.reshape((2,2))"
   ]
  },
  {
   "cell_type": "code",
   "execution_count": null,
   "metadata": {},
   "outputs": [],
   "source": [
    "array2[0][0] = 100\n",
    "array2"
   ]
  },
  {
   "cell_type": "code",
   "execution_count": null,
   "metadata": {},
   "outputs": [],
   "source": [
    "array1"
   ]
  },
  {
   "cell_type": "code",
   "execution_count": null,
   "metadata": {},
   "outputs": [],
   "source": [
    "import numpy as np\n",
    "\n",
    "a = np.array([0, 1])\n",
    "print('A: ')\n",
    "print(a, '\\n')\n",
    "a_col = a[:, np.newaxis]\n",
    "print('A_col: ')\n",
    "print(a_col)"
   ]
  },
  {
   "cell_type": "code",
   "execution_count": null,
   "metadata": {},
   "outputs": [],
   "source": [
    "array = np.arange(4)\n",
    "print('Shape array: ', array.shape)\n",
    "\n",
    "row_vec = array[np.newaxis, :] # lo rendiamo come vettore riga aggiungendo un asse come prima dimensione\n",
    "print('Shape row_vec: ', row_vec.shape)\n",
    "\n",
    "col_vec = array[:, np.newaxis] # lo rendiamo come vettore colonna aggiungendo un asse come seconda dimensione\n",
    "print('Shape col_vec: ', col_vec.shape)"
   ]
  },
  {
   "cell_type": "markdown",
   "metadata": {},
   "source": [
    "# Transpose"
   ]
  },
  {
   "cell_type": "code",
   "execution_count": null,
   "metadata": {},
   "outputs": [],
   "source": [
    "array1 = np.array([[1,2,3,4], [5,6,7,8]])\n",
    "print('Array1:')\n",
    "print(array1, '\\n')\n",
    "array2 = array1.T # è il metodo transpose\n",
    "print('Array2: ')\n",
    "print(array2)"
   ]
  },
  {
   "cell_type": "code",
   "execution_count": null,
   "metadata": {},
   "outputs": [],
   "source": [
    "array3 = array2.flatten()\n",
    "print(array3)"
   ]
  },
  {
   "cell_type": "markdown",
   "metadata": {},
   "source": [
    "# Operazioni"
   ]
  },
  {
   "cell_type": "code",
   "execution_count": null,
   "metadata": {},
   "outputs": [],
   "source": [
    "array1 = np.random.random((2,3)) # creiamo un array \n",
    "array1                           # di numeri random\n",
    "                                 # in [0.0, 1.0]"
   ]
  },
  {
   "cell_type": "code",
   "execution_count": null,
   "metadata": {},
   "outputs": [],
   "source": [
    "array1 = array1 * 2 # moltiplichiamo ogni elemento * 2\n",
    "array1"
   ]
  },
  {
   "cell_type": "code",
   "execution_count": null,
   "metadata": {},
   "outputs": [],
   "source": [
    "array1 = np.sqrt(array1) # radice quadrata di ogni \n",
    "array1                   # elemento"
   ]
  },
  {
   "cell_type": "code",
   "execution_count": null,
   "metadata": {},
   "outputs": [],
   "source": [
    "array1 = np.ceil(array1) # arrotonda all'int più \n",
    "array1                   # vicino"
   ]
  },
  {
   "cell_type": "code",
   "execution_count": null,
   "metadata": {},
   "outputs": [],
   "source": [
    "np.isnan(array1) # controlla se ci sono valori NaN"
   ]
  },
  {
   "cell_type": "code",
   "execution_count": null,
   "metadata": {},
   "outputs": [],
   "source": [
    "array1 = np.random.random(3)\n",
    "print('Array1: ', array1, '\\n')\n",
    "print('Add: ', np.sum(array1))\n",
    "print('Max: ', np.max(array1))\n",
    "print('Min: ', np.min(array1))"
   ]
  },
  {
   "cell_type": "code",
   "execution_count": null,
   "metadata": {},
   "outputs": [],
   "source": [
    "import numpy as np \n",
    "a = np.array([[1,2,3,4], [5,6,7,8], [9,10,11,12], [13,14,15,16],\n",
    "             [17,18,19,20]])\n",
    "a"
   ]
  },
  {
   "cell_type": "code",
   "execution_count": null,
   "metadata": {},
   "outputs": [],
   "source": [
    "a[:2, 1:3]"
   ]
  },
  {
   "cell_type": "code",
   "execution_count": null,
   "metadata": {},
   "outputs": [],
   "source": [
    "a[:, 1]"
   ]
  },
  {
   "cell_type": "code",
   "execution_count": null,
   "metadata": {},
   "outputs": [],
   "source": [
    "a[2,:]"
   ]
  },
  {
   "cell_type": "code",
   "execution_count": null,
   "metadata": {},
   "outputs": [],
   "source": [
    "a[::-1]"
   ]
  },
  {
   "cell_type": "code",
   "execution_count": null,
   "metadata": {},
   "outputs": [],
   "source": [
    "a[::-2]"
   ]
  },
  {
   "cell_type": "markdown",
   "metadata": {},
   "source": [
    "# Seed"
   ]
  },
  {
   "cell_type": "code",
   "execution_count": null,
   "metadata": {},
   "outputs": [],
   "source": [
    "array = np.random.random((1,3))\n",
    "print('Prima esecuzione: ', array)\n",
    "\n",
    "array = np.random.random((1,3))\n",
    "print('Seconda esecuzione: ', array)"
   ]
  },
  {
   "cell_type": "code",
   "execution_count": null,
   "metadata": {},
   "outputs": [],
   "source": [
    "seed = np.random.seed(2)\n",
    "array = np.random.random((1,3))\n",
    "print('Prima esecuzione: ', array)\n",
    "\n",
    "seed = np.random.seed(2)\n",
    "array = np.random.random((1,3))\n",
    "print('Seconda esecuzione: ', array)"
   ]
  },
  {
   "cell_type": "markdown",
   "metadata": {},
   "source": [
    "# Esercizio 14"
   ]
  },
  {
   "cell_type": "code",
   "execution_count": null,
   "metadata": {},
   "outputs": [],
   "source": [
    "np.random.seed(1)\n",
    "\n",
    "array = np.random.random((5,4))\n",
    "array[2,1] = 5.0\n",
    "array = np.transpose(array)\n",
    "array = array.reshape(10,2)\n",
    "array = array.flatten()"
   ]
  },
  {
   "cell_type": "markdown",
   "metadata": {},
   "source": [
    "# Esercizio 15"
   ]
  },
  {
   "cell_type": "code",
   "execution_count": null,
   "metadata": {},
   "outputs": [],
   "source": [
    "array = np.random.random((5,4))\n",
    "\n",
    "minimo = np.min(array)\n",
    "massimo = np.max(array)\n",
    "somma = np.sum(array)\n",
    "\n",
    "print(\"L'array è: \\n\", array)\n",
    "print()\n",
    "print(\"Il valore minimo dell'array è: \\n\", minimo)\n",
    "print()\n",
    "print(\"Il valore massimo dell'array è: \\n\", massimo)\n",
    "print()\n",
    "print(\"La somma degli elementi dell'array è: \\n\", somma)\n",
    "\n",
    "#Calcolare il valore minimo, massimo, e la somma degli elementi del vettore"
   ]
  },
  {
   "cell_type": "markdown",
   "metadata": {},
   "source": [
    "# Matplotlib"
   ]
  },
  {
   "cell_type": "code",
   "execution_count": null,
   "metadata": {},
   "outputs": [],
   "source": [
    "import matplotlib.pyplot as plt "
   ]
  },
  {
   "cell_type": "code",
   "execution_count": null,
   "metadata": {},
   "outputs": [],
   "source": [
    "plt.plot([4, 5], [3, 8], 'ro-') # disegniamo una linea"
   ]
  },
  {
   "cell_type": "markdown",
   "metadata": {},
   "source": [
    "# Subplots"
   ]
  },
  {
   "cell_type": "code",
   "execution_count": null,
   "metadata": {},
   "outputs": [],
   "source": [
    "x = [4, 5]\n",
    "y = [3, 8]\n",
    "fig, axs = plt.subplots(2, 2)\n",
    "axs[0, 0].plot(x, y, 'bo')\n",
    "axs[0, 0].set_title('Asse [0, 0]')\n",
    "\n",
    "axs[0, 1].plot(x, y, 'mo-')\n",
    "axs[0, 1].set_title('Asse [0, 1]')\n",
    "\n",
    "axs[1, 0].plot(x, y, 'r')\n",
    "axs[1, 0].set_title('Asse [1, 0]')\n",
    "\n",
    "axs[1, 1].plot(x, y, 'yo')\n",
    "axs[1, 1].set_title('Asse [1, 1]')\n",
    "\n",
    "for ax in axs.flat:\n",
    "    ax.label_outer()\n",
    "\n",
    "plt.show() # mostra il plot (n.b. nel notebook funziona anche senza, \n",
    "           #su un editor python bisogna dichiarare lo show)"
   ]
  },
  {
   "cell_type": "code",
   "execution_count": null,
   "metadata": {},
   "outputs": [],
   "source": [
    "plt.subplots(figsize=(20,10))\n",
    "plt.plot([4,5], [3, 8], 'ro-')\n",
    "plt.xticks(fontsize=14)\n",
    "plt.yticks(fontsize=14)\n",
    "plt.xlabel('X', fontsize=14)\n",
    "plt.ylabel('Y', fontsize=14)\n",
    "plt.title('Plot', fontsize=14)\n",
    "plt.show()"
   ]
  },
  {
   "cell_type": "markdown",
   "metadata": {},
   "source": [
    "# Data visualization"
   ]
  },
  {
   "cell_type": "code",
   "execution_count": null,
   "metadata": {},
   "outputs": [],
   "source": [
    "import matplotlib.pyplot as plt"
   ]
  },
  {
   "cell_type": "markdown",
   "metadata": {},
   "source": [
    "# Istogramma: esercizio"
   ]
  },
  {
   "cell_type": "code",
   "execution_count": null,
   "metadata": {},
   "outputs": [],
   "source": [
    "dati = [1, 2, 1, 5, 6, 2, 3, 3, 8, 1, 1, 7, 8, 8, 6]\n",
    "\n",
    "plt.hist(dati)\n",
    "plt.show()"
   ]
  },
  {
   "cell_type": "markdown",
   "metadata": {},
   "source": [
    "# Parametri plot"
   ]
  },
  {
   "cell_type": "code",
   "execution_count": null,
   "metadata": {},
   "outputs": [],
   "source": [
    "dati = [1,2,1,5,6,2,3,3,8,1,1,7,8,8,6]\n",
    "plt.hist(dati, color = 'red', bins = 20 ,\n",
    "         orientation='horizontal', histtype='bar',\n",
    "         align='mid')\n",
    "plt.show()"
   ]
  },
  {
   "cell_type": "markdown",
   "metadata": {},
   "source": [
    "# Esercizio 17"
   ]
  },
  {
   "cell_type": "code",
   "execution_count": null,
   "metadata": {},
   "outputs": [],
   "source": [
    "corso_m = {'economia': 134012, 'ingegneria': 200689, 'giurisprudenza': 88722, 'lettere':60321, 'medicina': 80279}\n",
    "corso_d = {'economia': 104847, 'ingegneria': 52241, 'giurisprudenza': 125714, 'lettere':123068, 'medicina': 102122}\n",
    "\n",
    "x_pos = np.arange(len(corso_m.keys())) \n",
    "width = 0.35 \n",
    "\n",
    "fig, ax = plt.subplots()\n",
    "rects1 = ax.bar(x_pos - width/2, corso_m.values(), width, label='Uomini')\n",
    "rects2 = ax.bar(x_pos + width/2, corso_d.values(), width, label='Donne')\n",
    "\n",
    "plt.xticks(x_pos, corso_m.keys())\n",
    "plt.legend()\n",
    "plt.show()"
   ]
  },
  {
   "cell_type": "markdown",
   "metadata": {},
   "source": [
    "# Aerogrammi"
   ]
  },
  {
   "cell_type": "code",
   "execution_count": null,
   "metadata": {},
   "outputs": [],
   "source": [
    "labels = 'Frogs', 'Hogs', 'Dogs', 'Logs'\n",
    "sizes = [15, 30, 45, 10]\n",
    "\n",
    "plt.pie(sizes, labels=labels, autopct='%1.1f%%',\n",
    "startangle=90)\n",
    "\n",
    "plt.show()"
   ]
  },
  {
   "cell_type": "markdown",
   "metadata": {},
   "source": [
    "# Diagramma Polare"
   ]
  },
  {
   "cell_type": "code",
   "execution_count": null,
   "metadata": {},
   "outputs": [],
   "source": [
    "r = np.arange(0, 2, 0.01)\n",
    "theta = 2 * np.pi * r\n",
    "\n",
    "ax = plt.subplot(111, projection='polar')\n",
    "ax.plot(theta, r)\n",
    "ax.set_rmax(2)\n",
    "ax.set_rticks([0.5, 1, 1.5, 2])  # Less radial ticks\n",
    "ax.set_rlabel_position(-22.5)  # Move radial labels away from plotted line\n",
    "ax.grid(True)\n",
    "\n",
    "plt.show()"
   ]
  },
  {
   "cell_type": "markdown",
   "metadata": {},
   "source": [
    "# Grafico a Dispersione"
   ]
  },
  {
   "cell_type": "code",
   "execution_count": null,
   "metadata": {},
   "outputs": [],
   "source": [
    "x = [1,2,3,4,5,6]\n",
    "y = [10,23,50,23,87,20]\n",
    "\n",
    "plt.scatter(x,y)\n",
    "plt.show()"
   ]
  },
  {
   "cell_type": "markdown",
   "metadata": {},
   "source": [
    "# Esercizio grafico dispersione"
   ]
  },
  {
   "cell_type": "code",
   "execution_count": null,
   "metadata": {},
   "outputs": [],
   "source": [
    "np.random.seed(1)\n",
    "\n",
    "xyz = np.array(np.random.random((100,3)))\n",
    "plt.scatter(xyz[:,0], xyz[:,1], s = 14, c=xyz[:,2])\n",
    "plt.title(\"Osservazioni dei punti\")\n",
    "plt.xlabel(\"X\")\n",
    "plt.ylabel(\"Y\")\n",
    "cbar = plt.colorbar()\n",
    "cbar.set_label(\"Valore\")\n",
    "plt.show()"
   ]
  },
  {
   "cell_type": "markdown",
   "metadata": {},
   "source": [
    "# Esercizio 17"
   ]
  },
  {
   "cell_type": "code",
   "execution_count": null,
   "metadata": {},
   "outputs": [],
   "source": [
    "x = np.random.randint(0, 50,1000)\n",
    "y = np.random.random((1000,1))\n",
    "\n",
    "plt.scatter(x,y)\n",
    "plt.show()"
   ]
  },
  {
   "cell_type": "markdown",
   "metadata": {},
   "source": [
    "# Misure statistiche"
   ]
  },
  {
   "cell_type": "code",
   "execution_count": null,
   "metadata": {},
   "outputs": [],
   "source": [
    "import numpy as np\n",
    "from scipy import stats"
   ]
  },
  {
   "cell_type": "markdown",
   "metadata": {},
   "source": [
    "# Misure statistiche"
   ]
  },
  {
   "cell_type": "code",
   "execution_count": null,
   "metadata": {},
   "outputs": [],
   "source": [
    "a = [1,2,3,4,5,6,7,8,9,10]\n",
    "\n",
    "print(\"La media di a è -->\", np.mean(a))"
   ]
  },
  {
   "cell_type": "markdown",
   "metadata": {},
   "source": [
    "# Esercizio sulla media aritmetica"
   ]
  },
  {
   "cell_type": "code",
   "execution_count": null,
   "metadata": {},
   "outputs": [],
   "source": [
    "temperatura = [19, 17, 20, 18, 21, 16]"
   ]
  },
  {
   "cell_type": "code",
   "execution_count": null,
   "metadata": {},
   "outputs": [],
   "source": [
    "def mediaAritmetica(valori): \n",
    "    n=len(valori) \n",
    "    somma=0 \n",
    "    for i in range(n): \n",
    "        somma += valori[i] \n",
    "    return somma/n"
   ]
  },
  {
   "cell_type": "code",
   "execution_count": null,
   "metadata": {},
   "outputs": [],
   "source": [
    "def mediaAritmetica_2(valori): \n",
    "    somma=sum(valori) \n",
    "    n=len(valori) \n",
    "    return somma/n"
   ]
  },
  {
   "cell_type": "code",
   "execution_count": null,
   "metadata": {},
   "outputs": [],
   "source": [
    "print('La temperatura media è: ', mediaAritmetica(temperatura))\n",
    "\n",
    "print('La temperatura media è: ', np.mean(temperatura))"
   ]
  },
  {
   "cell_type": "markdown",
   "metadata": {},
   "source": [
    "# Media ponderata"
   ]
  },
  {
   "cell_type": "code",
   "execution_count": null,
   "metadata": {},
   "outputs": [],
   "source": [
    "valori = np.array([1,2,3,4])\n",
    "pesi = np.array([4,3,2,1])\n",
    "media_ponderata = np.average(valori, weights= pesi)\n",
    "print (\"La media ponderata è:\", media_ponderata)"
   ]
  },
  {
   "cell_type": "markdown",
   "metadata": {},
   "source": [
    "# Esercizi sulla media ponderata"
   ]
  },
  {
   "cell_type": "code",
   "execution_count": null,
   "metadata": {},
   "outputs": [],
   "source": [
    "def mediaPesata(valori, pesi): \n",
    "    n=len(valori) \n",
    "    somma =0\n",
    "    somma_pesi=0\n",
    "    for i in range(n): \n",
    "        somma  += valori[i] * pesi[i]\n",
    "        somma_pesi += pesi[i]\n",
    "    return somma/somma_pesi"
   ]
  },
  {
   "cell_type": "code",
   "execution_count": null,
   "metadata": {},
   "outputs": [],
   "source": [
    "valori = [6, 8, 10, 12]\n",
    "pesi = [5, 7, 6, 2]\n",
    "\n",
    "mediaPesata(valori,pesi)"
   ]
  },
  {
   "cell_type": "code",
   "execution_count": null,
   "metadata": {},
   "outputs": [],
   "source": [
    "peso = [1, 1, 0.5, 0.5]\n",
    "voti = [7, 5.5, 6, 5]\n",
    "\n",
    "mediaPesata(voti, peso)"
   ]
  },
  {
   "cell_type": "markdown",
   "metadata": {},
   "source": [
    "# Mediana"
   ]
  },
  {
   "cell_type": "code",
   "execution_count": null,
   "metadata": {},
   "outputs": [],
   "source": [
    "a = [2, 6, 11, 23, 27, 34, 48, 100, 120]\n",
    "\n",
    "print(\"La media di a è -->\", np.mean(a))\n",
    "\n",
    "print(\"La mediana di a è -->\", np.median(a))"
   ]
  },
  {
   "cell_type": "markdown",
   "metadata": {},
   "source": [
    "# Esercizio sulla mediana"
   ]
  },
  {
   "cell_type": "code",
   "execution_count": null,
   "metadata": {},
   "outputs": [],
   "source": [
    "voti = [15, 20, 24, 23, 27, 28, 12]\n",
    "\n",
    "print('La mediana è: ', np.median(voti))\n",
    "np.mean(voti)"
   ]
  },
  {
   "cell_type": "markdown",
   "metadata": {},
   "source": [
    "# Moda"
   ]
  },
  {
   "cell_type": "code",
   "execution_count": null,
   "metadata": {},
   "outputs": [],
   "source": [
    "a = [1,2,3,4,1,1,2,5,6]\n",
    "\n",
    "moda = stats.mode(a)\n",
    "print(moda)\n",
    "print(\"La moda di a è -->\", moda[0], 'la cui frequenza è: ', moda[1])"
   ]
  },
  {
   "cell_type": "markdown",
   "metadata": {},
   "source": [
    "# Esercizio sulla moda"
   ]
  },
  {
   "cell_type": "code",
   "execution_count": null,
   "metadata": {},
   "outputs": [],
   "source": [
    "colore = ['nero', 'castano', 'castano', 'nero', 'biondo', 'nero', 'castano', 'castano', 'castano', 'nero', \n",
    "          'rosso', 'nero', 'castano', 'castano', 'biondo', 'biondo', 'castano', 'nero', 'biondo', 'nero',\n",
    "          'nero', 'castano', 'castano']\n",
    "\n",
    "moda = stats.mode(colore)\n",
    "\n",
    "print(\"La moda è: \", moda[0], 'la cui frequenza è: ', moda[1])"
   ]
  },
  {
   "cell_type": "markdown",
   "metadata": {},
   "source": [
    "# Esercizio 18"
   ]
  },
  {
   "cell_type": "code",
   "execution_count": null,
   "metadata": {},
   "outputs": [],
   "source": [
    "from collections import defaultdict\n",
    "import matplotlib.pyplot as plt\n",
    "\n",
    "scolarita = [12, 8, 13, 16, 17, 8, 16, 12, 17, 13, 13, 8, 18, 17]\n",
    "\n",
    "d_scol = defaultdict(int)\n",
    "\n",
    "for i in scolarita:\n",
    "    if i >= 5 and i <= 8:\n",
    "        d_scol['5-8'] += 1\n",
    "    elif i >= 9 and i <= 14:\n",
    "        d_scol['9-14'] += 1\n",
    "    else:\n",
    "        d_scol['15-18'] += 1\n",
    "\n",
    "plt.pie(d_scol.values(), labels=d_scol.keys(), autopct='%1.1f%%', startangle=90)\n",
    "plt.show()"
   ]
  },
  {
   "cell_type": "code",
   "execution_count": null,
   "metadata": {},
   "outputs": [],
   "source": [
    "livello = ['ALTO', 'BASSO', 'MEDIO', 'BASSO', 'ALTO', 'BASSO', 'MEDIO', 'MEDIO', 'MEDIO', 'BASSO', 'MEDIO',\n",
    "          'ALTO', 'ALTO', 'BASSO', 'MEDIO', 'ALTO']\n",
    "\n",
    "d_livello = defaultdict(lambda:0)\n",
    "\n",
    "for i in livello:\n",
    "    d_livello[i] = livello.count(i)\n",
    "\n",
    "x_pos = np.arange(len(d_livello.keys())) # generare un array da 0 a n-1 dove n è il\n",
    "                                        # numero delle barre che vogliamo nel grafico\n",
    "plt.bar(x_pos, d_livello.values())\n",
    "plt.xticks(x_pos, d_livello.keys())\n",
    "plt.show()\n",
    "\n",
    "moda = stats.mode(livello)\n",
    "moda[0]"
   ]
  },
  {
   "cell_type": "code",
   "execution_count": null,
   "metadata": {},
   "outputs": [],
   "source": [
    "autoritarismo = [0, 2, 4, 3, 4, 7, 5, 2, 8, 6, 3, 2, 0, 1, 0, 8]\n",
    "\n",
    "mean = np.mean(autoritarismo)\n",
    "median = np.median(autoritarismo)\n",
    "print('Mean: ', mean, ' Median: ', median)"
   ]
  },
  {
   "cell_type": "markdown",
   "metadata": {},
   "source": [
    "# Percentili"
   ]
  },
  {
   "cell_type": "code",
   "execution_count": null,
   "metadata": {},
   "outputs": [],
   "source": [
    "a = [1, 2, 7, 20, 34] \n",
    "\n",
    "print(\"25° percentile: \", np.percentile(a, 25))\n",
    "print(\"50° percentile: \",  np.percentile(a, 50)) \n",
    "print(\"75° percentile: \", np.percentile(a, 75)) "
   ]
  },
  {
   "cell_type": "markdown",
   "metadata": {},
   "source": [
    "# Esercizio sui percentili"
   ]
  },
  {
   "cell_type": "code",
   "execution_count": null,
   "metadata": {},
   "outputs": [],
   "source": [
    "tempi = [58.6, 59, 59.3, 59.4, 62.7, 62.8, 63.7, 65.4, 67.3]\n",
    "\n",
    "print(\"Primo quartile (25° percentile): \", np.percentile(tempi, 25))\n",
    "print(\"Mediana: (50° percentile) \",  np.percentile(tempi, 50)) \n",
    "print(\"Terzo quartile (75° percentile): \", np.percentile(tempi, 75)) "
   ]
  },
  {
   "cell_type": "markdown",
   "metadata": {},
   "source": [
    "# Campo di variazione"
   ]
  },
  {
   "cell_type": "code",
   "execution_count": null,
   "metadata": {},
   "outputs": [],
   "source": [
    "X = [1,2,3,4,5]\n",
    "\n",
    "CV = np.max(X) - np.min(X)\n",
    "print(\"Il campo di variazione di X è -->\", CV)"
   ]
  },
  {
   "cell_type": "markdown",
   "metadata": {},
   "source": [
    "# Esercizio sul campo di variazione"
   ]
  },
  {
   "cell_type": "code",
   "execution_count": null,
   "metadata": {},
   "outputs": [],
   "source": [
    "x = [35, 4, 28, 76, 12, 5, 7]\n",
    "\n",
    "CV = np.max(x) - np.min(x)\n",
    "print(\"Il campo di variazione di x è: \", CV)"
   ]
  },
  {
   "cell_type": "markdown",
   "metadata": {},
   "source": [
    "# Scarto interquartile"
   ]
  },
  {
   "cell_type": "code",
   "execution_count": null,
   "metadata": {},
   "outputs": [],
   "source": [
    "X = [1,2,3,4,5]\n",
    "\n",
    "IQR = stats.iqr(X) \n",
    "\n",
    "print(\"Lo scarto interquartile di X è -->\", IQR)"
   ]
  },
  {
   "cell_type": "code",
   "execution_count": null,
   "metadata": {},
   "outputs": [],
   "source": [
    "Q1 = np.percentile(X, 25)\n",
    "Q3 = np.percentile(X, 75)\n",
    "\n",
    "IQR = Q3 - Q1\n",
    "IQR"
   ]
  },
  {
   "cell_type": "markdown",
   "metadata": {},
   "source": [
    "# Deviazione standard"
   ]
  },
  {
   "cell_type": "code",
   "execution_count": null,
   "metadata": {},
   "outputs": [],
   "source": [
    "X = [1,2,3,4,5]\n",
    "\n",
    "dev = np.std(X) \n",
    "\n",
    "print(\"La deviazione standard di X è -->\", dev)"
   ]
  },
  {
   "cell_type": "markdown",
   "metadata": {},
   "source": [
    "# Varianza"
   ]
  },
  {
   "cell_type": "code",
   "execution_count": null,
   "metadata": {},
   "outputs": [],
   "source": [
    "X = [1,2,3,4,5]\n",
    "\n",
    "var = np.var(X) \n",
    "\n",
    "print(\"La varianza di X è -->\", var)"
   ]
  },
  {
   "cell_type": "markdown",
   "metadata": {},
   "source": [
    "# Esercizio 19"
   ]
  },
  {
   "cell_type": "code",
   "execution_count": null,
   "metadata": {},
   "outputs": [],
   "source": [
    "# Esercizio giudizio\n",
    "import numpy as np\n",
    "import matplotlib.pyplot as plt\n",
    "import scipy.stats as stats\n",
    "\n",
    "x = [2, 4, 0, 1, 3, 1, 0, 2, 2, 3, 4, 4, 1, 0, 0, 1, 4, 3, 2, 1, 1, 3, 4, 0, 3, 1, 2, 3, 4, 0]\n",
    "\n",
    "mean = np.mean(x)\n",
    "mode = stats.mode(x)\n",
    "median = np.median(x)\n",
    "deviance = np.std(x)\n",
    "variance = np.var(x)\n",
    "\n",
    "\n",
    "plt.hist(x, color='magenta', orientation='horizontal')\n",
    "plt.show()"
   ]
  },
  {
   "cell_type": "markdown",
   "metadata": {},
   "source": [
    "# Esercizio 20"
   ]
  },
  {
   "cell_type": "code",
   "execution_count": null,
   "metadata": {},
   "outputs": [],
   "source": [
    "import numpy as np\n",
    "import matplotlib.pyplot as plt\n",
    "import scipy.stats as stats\n",
    "from collections import defaultdict\n",
    "\n",
    "x = [1, 3, 4, 2, 2, 4, 5, 5, 1, 1, 2, 3, 4, 3, 2, 6, 6, 1, 2, 2, 3, 2, 1, 3, 4, 2, 3, 3, 3, 5, 6, 4, 2, 2, 4, 2]\n",
    "\n",
    "d = defaultdict(lambda : 0)\n",
    "\n",
    "for i in range(len(x)):\n",
    "    d[x[i]] = x.count(x[i])\n",
    "\n",
    "mean = np.mean(x)\n",
    "mode = stats.mode(x)\n",
    "median = np.median(x)\n",
    "variance = np.var(x)\n",
    "\n",
    "\n",
    "plt.pie(d.values(), labels=d.keys(), autopct='%1.1f%%', startangle=90)\n",
    "plt.show()"
   ]
  },
  {
   "cell_type": "markdown",
   "metadata": {},
   "source": [
    "# Covarianza"
   ]
  },
  {
   "cell_type": "code",
   "execution_count": null,
   "metadata": {},
   "outputs": [],
   "source": [
    "X = [1,2,3,4,5]\n",
    "Y = [3,4,5,6,7]\n",
    "\n",
    "cov = np.cov(X,Y) \n",
    "\n",
    "print(\"La covarianza è -->\", cov)"
   ]
  },
  {
   "cell_type": "markdown",
   "metadata": {},
   "source": [
    "# Correlazione"
   ]
  },
  {
   "cell_type": "code",
   "execution_count": null,
   "metadata": {},
   "outputs": [],
   "source": [
    "X = [1,2,3,4,5]\n",
    "Y = [3,4,5,6,7]\n",
    "\n",
    "corr = stats.pearsonr(X,Y) \n",
    "\n",
    "print(\"Il coefficiente di Pearson è -->\", corr)"
   ]
  },
  {
   "cell_type": "markdown",
   "metadata": {},
   "source": [
    "# Esercizio 21"
   ]
  },
  {
   "cell_type": "code",
   "execution_count": null,
   "metadata": {},
   "outputs": [],
   "source": [
    "x = [10, 16, 6, 18, 20]\n",
    "y = [18, 24, 10, 30, 36]\n",
    "\n",
    "corr = stats.pearsonr(x,y) \n",
    "\n",
    "print(\"Il coefficiente di Pearson è: \", corr)"
   ]
  },
  {
   "cell_type": "markdown",
   "metadata": {},
   "source": [
    "# Esercizio 22"
   ]
  },
  {
   "cell_type": "code",
   "execution_count": null,
   "metadata": {},
   "outputs": [],
   "source": [
    "x = [20, 24, 28, 30, 32, 36]\n",
    "y = [10, 12, 18, 24, 22, 20]\n",
    "\n",
    "corr = stats.pearsonr(x,y) \n",
    "\n",
    "print(\"Il coefficiente di Pearson è: \", corr)"
   ]
  },
  {
   "cell_type": "markdown",
   "metadata": {},
   "source": [
    "# Box - Plot"
   ]
  },
  {
   "cell_type": "code",
   "execution_count": null,
   "metadata": {},
   "outputs": [],
   "source": [
    "value1 = [82,76,24,40,67,62,75,78,71,32,98,89,78,67,72,82,87,66,56,52]\n",
    "value2 = [62,5,91,25,36,32,96,95,3,90,95,32,27,55,100,15,71,11,37,21]\n",
    "value3 = [23,89,12,78,72,89,25,69,68,86,19,49,15,16,16,75,65,31,25,52]\n",
    "value4 = [59,73,70,16,81,61,88,98,10,87,29,72,16,23,72,88,78,99,75,30]\n",
    " \n",
    "box_plot_data=[value1,value2,value3,value4]\n",
    "\n",
    "plt.boxplot(box_plot_data)\n",
    "plt.show()"
   ]
  },
  {
   "cell_type": "code",
   "execution_count": null,
   "metadata": {},
   "outputs": [],
   "source": [
    "plt.boxplot(box_plot_data,patch_artist=True,labels=['course1',\n",
    "                                                    'course2',\n",
    "                                                    'course3',\n",
    "                                                    'course4'])\n",
    "plt.show()"
   ]
  },
  {
   "cell_type": "markdown",
   "metadata": {},
   "source": [
    "# Esempio calcolo del valore atteso"
   ]
  },
  {
   "cell_type": "code",
   "execution_count": null,
   "metadata": {},
   "outputs": [],
   "source": [
    "import numpy as np\n",
    "def valoreAtteso(x, px):\n",
    "    E = 0\n",
    "    \n",
    "    for i in range(len(x)):\n",
    "        E += x[i]*px[i]\n",
    "        \n",
    "    return E"
   ]
  },
  {
   "cell_type": "code",
   "execution_count": null,
   "metadata": {},
   "outputs": [],
   "source": [
    "x = [0, 1, 2]\n",
    "px = [1/4, 1/2, 1/4]\n",
    "\n",
    "valoreAtteso(x, px)"
   ]
  },
  {
   "cell_type": "markdown",
   "metadata": {},
   "source": [
    "# Esercizio calcolo del valore atteso"
   ]
  },
  {
   "cell_type": "code",
   "execution_count": null,
   "metadata": {},
   "outputs": [],
   "source": [
    "x=[2,3,4,5,6,7,8,9,10,11,12]\n",
    "px=[1/36, 2/36, 3/36, 4/36, 5/36, 6/36, 5/36, 4/36, 3/36, 2/36, 1/36]\n",
    "\n",
    "valoreAtteso(x,px)"
   ]
  },
  {
   "cell_type": "markdown",
   "metadata": {},
   "source": [
    "# Esercizio calcolo probabilità e valore atteso"
   ]
  },
  {
   "cell_type": "code",
   "execution_count": null,
   "metadata": {},
   "outputs": [],
   "source": [
    "x = [1, 2, 3, 4, 5, 6]\n",
    "p_cum = [4/100, 64/100, 80/100, 92/100, 96/100, 100/100]\n",
    "\n",
    "p4 = p_cum[3] - p_cum[2]\n",
    "\n",
    "p6 = 1 - p_cum[4]\n",
    "\n",
    "px = [4/100, 60/100, 16/100, p4, 4/100, p6]\n",
    "\n",
    "valoreAtteso(x, px)"
   ]
  },
  {
   "cell_type": "markdown",
   "metadata": {},
   "source": [
    "# Esercizio valore atteso e deviazione standard"
   ]
  },
  {
   "cell_type": "code",
   "execution_count": null,
   "metadata": {},
   "outputs": [],
   "source": [
    "def devStandard(x, px, E):\n",
    "    var = 0\n",
    "    \n",
    "    for i in range(len(x)):\n",
    "        var += ((x[i] - E)**2) * px[i]\n",
    "        \n",
    "    return np.sqrt(var)"
   ]
  },
  {
   "cell_type": "code",
   "execution_count": null,
   "metadata": {},
   "outputs": [],
   "source": [
    "x = [1, 2, 3, 4]\n",
    "px=[0.5, 0.25, 0.15, 0.1]\n",
    "\n",
    "E = valoreAtteso(x, px)\n",
    "dev = devStandard(x, px, E)\n",
    "\n",
    "print('Il valore atteso è: ', E)\n",
    "print('La deviazione standard è: ', dev)"
   ]
  },
  {
   "cell_type": "markdown",
   "metadata": {},
   "source": [
    "# Distribuzione normale"
   ]
  },
  {
   "cell_type": "code",
   "execution_count": null,
   "metadata": {},
   "outputs": [],
   "source": [
    "from scipy.stats import norm\n",
    "mu = 0\n",
    "var = 2\n",
    "dev = np.sqrt(var) \n",
    "x = np.linspace(mu-3,mu+3, 100)\n",
    "\n",
    "plt.plot(x, norm.pdf(x, mu, dev), label='mu=0, var=2')\n",
    "plt.legend()\n",
    "plt.show()"
   ]
  },
  {
   "cell_type": "code",
   "execution_count": null,
   "metadata": {},
   "outputs": [],
   "source": [
    "mu = 4\n",
    "x = np.linspace(mu-3,mu+3, 100)\n",
    "\n",
    "plt.plot(x, norm.pdf(x, mu, np.sqrt(4)), label='var=4')\n",
    "plt.plot(x, norm.pdf(x, mu, np.sqrt(2)), label='var=2')\n",
    "plt.plot(x, norm.pdf(x, mu, np.sqrt(0.5)), label='var=0.5')\n",
    "plt.legend()\n",
    "plt.show()"
   ]
  },
  {
   "cell_type": "markdown",
   "metadata": {},
   "source": [
    "# Esercizio distribuzione normale standardizzata"
   ]
  },
  {
   "cell_type": "code",
   "execution_count": null,
   "metadata": {},
   "outputs": [],
   "source": [
    "def z_(x, mu, sigma):\n",
    "    return (x-mu)/sigma"
   ]
  },
  {
   "cell_type": "code",
   "execution_count": null,
   "metadata": {},
   "outputs": [],
   "source": [
    "n = 100\n",
    "x1 = 180\n",
    "mu = 175\n",
    "sigma = 5\n",
    "\n",
    "# Bisogna calcolare P(x < 180) \n",
    "\n",
    "z1 = z_(x1, mu, sigma) # 1\n",
    "\n",
    "# P(x < 180) = P(z < z1) = p(z1)\n",
    "\n",
    "p_z = 0.8413"
   ]
  },
  {
   "cell_type": "markdown",
   "metadata": {},
   "source": [
    "# Esercizio 23"
   ]
  },
  {
   "cell_type": "code",
   "execution_count": null,
   "metadata": {},
   "outputs": [],
   "source": [
    "mu = 3.2\n",
    "sigma = 1.8\n",
    "x1 = 4.5\n",
    "\n",
    "# P(x > 4.5)\n",
    "z1 = z_(x1, mu, sigma) # 0.722\n",
    "\n",
    "# P(x > 4.5) = P(z > z1) = 1 - p(z1)\n",
    "\n",
    "p_z1 = 0.7642\n",
    "\n",
    "p_ = 1 - p_z1\n",
    "\n",
    "p_"
   ]
  },
  {
   "cell_type": "code",
   "execution_count": null,
   "metadata": {},
   "outputs": [],
   "source": [
    "x1 = 1.78\n",
    "\n",
    "# P(x > 4.5)\n",
    "z1 = z_(x1, mu, sigma) # -0.789\n",
    "\n",
    "# P(x > 4.5) = P(z > -0.789) = 1 - p(z1)\n",
    "\n",
    "p_z1 = 0.2148\n",
    "\n",
    "p_ = 1 - p_z1\n",
    "\n",
    "p_"
   ]
  },
  {
   "cell_type": "code",
   "execution_count": null,
   "metadata": {},
   "outputs": [],
   "source": [
    "x1 = 2.9\n",
    "x2 = 3.6\n",
    "\n",
    "z1 = z_(x1, mu, sigma) # -0.167\n",
    "z2 = z_(x2, mu, sigma) # 0.222\n",
    "\n",
    "# P(z > z1) --> DATO CHE Z = UN NUMERO NEGATIVO: 1 - p(z1) oppure p(-z1) \n",
    "# P(z < z2) = p(z2)\n",
    "\n",
    "p_z1 = 0.4325\n",
    "p_z2 = 0.5871\n",
    "\n",
    "# P(x1 < x < x2) = P(z1 < z < z2) = P(z > z1) - P(z < z2)\n",
    "\n",
    "p_ = p_z1 - p_z2\n",
    "p_"
   ]
  },
  {
   "cell_type": "markdown",
   "metadata": {},
   "source": [
    "# Esercizio 24"
   ]
  },
  {
   "cell_type": "code",
   "execution_count": null,
   "metadata": {},
   "outputs": [],
   "source": [
    "mu = 50\n",
    "var = 64\n",
    "x1 = 30\n",
    "x2 = 60\n",
    "\n",
    "# Bisogna calcolare P(x1 < x < x2)\n",
    "\n",
    "z1 = z_(x1, mu, np.sqrt(var)) # -2.5\n",
    "z2 = z_(x2, mu, np.sqrt(var)) # 1.25\n",
    "\n",
    "# P(z > z1) = P(z1) = P(-2.5) oppure 1 - P(2.5) \n",
    "# P(z < z2) = P(z2) = P(1.25) \n",
    "\n",
    "p_z1 = 0.0062\n",
    "p_z2 = 0.8944\n",
    "\n",
    "# P(x1 < x < x2) = P(z1 < z < z2) = P(z1) - P(z2)\n",
    "\n",
    "p_ = p_z1 - p_z2\n",
    "p_ # -0.8882 --> p_ = 0.8882 poichè è simmetrica"
   ]
  },
  {
   "cell_type": "markdown",
   "metadata": {},
   "source": [
    "# Esercizio teorema del limite centrale"
   ]
  },
  {
   "cell_type": "code",
   "execution_count": null,
   "metadata": {},
   "outputs": [],
   "source": [
    "from numpy.random import randint\n",
    "from numpy import mean\n",
    "import matplotlib.pyplot as plt\n",
    "\n",
    "#np.random.seed(1)\n",
    "weights = randint(60, 90, 50)\n",
    "means = [mean(randint(60, 90, 50)) for i in range(10)]\n",
    "plt.hist(means)\n",
    "plt.show()\n",
    "print('La media del peso è {} kg'.format(mean(weights)))\n",
    "print('La media delle medie è {}'.format(mean(means)))"
   ]
  },
  {
   "cell_type": "code",
   "execution_count": null,
   "metadata": {},
   "outputs": [],
   "source": [
    "means = [mean(randint(60, 90, 50)) for i in range(50)]\n",
    "plt.hist(means)\n",
    "plt.show()\n",
    "print('La media del peso è {} kg'.format(mean(weights)))\n",
    "print('La media delle medie è {}'.format(mean(means)))"
   ]
  },
  {
   "cell_type": "code",
   "execution_count": null,
   "metadata": {},
   "outputs": [],
   "source": [
    "means = [mean(randint(60, 90, 50)) for i in range(1000)]\n",
    "plt.hist(means)\n",
    "plt.show()\n",
    "print('La media del peso è {} kg'.format(mean(weights)))\n",
    "print('La media delle medie è {}'.format(mean(means)))"
   ]
  },
  {
   "cell_type": "markdown",
   "metadata": {},
   "source": [
    "# Esercizio Test chi-quadro "
   ]
  },
  {
   "cell_type": "code",
   "execution_count": null,
   "metadata": {},
   "outputs": [],
   "source": [
    "from scipy.stats import chisquare\n",
    "\n",
    "occorrenze_dado = [160,145,210,150,165,170] \n",
    "\n",
    "chi_quadro = chisquare(occorrenze_dado)\n",
    "\n",
    "print(\"Il valore del test chi-quadro è: \", chi_quadro[0])\n",
    "print()\n",
    "print(\"Il valore del p-value è: \", chi_quadro[1])"
   ]
  },
  {
   "cell_type": "markdown",
   "metadata": {},
   "source": [
    "# Esercizio Test t di Student"
   ]
  },
  {
   "cell_type": "code",
   "execution_count": null,
   "metadata": {},
   "outputs": [],
   "source": [
    "import numpy as np\n",
    "from scipy.stats import ttest_ind\n",
    "gruppo1 = [639,646,650,641,641,637,659,650,640,635]\n",
    "gruppo2 = [650,633,631,637,642,638,640,634,626,636,640]\n",
    "\n",
    "media_gruppo1 = np.mean(gruppo1)\n",
    "media_gruppo2 = np.mean(gruppo2)\n",
    "\n",
    "print(\"Media del gruppo 1: \", media_gruppo1)\n",
    "print()\n",
    "print(\"Media del gruppo 2: \", media_gruppo2)\n",
    "\n",
    "T = ttest_ind(gruppo1,gruppo2)\n",
    "\n",
    "print()\n",
    "print(\"Il valore del test t student è: \", T[0])\n",
    "print()\n",
    "print(\"Il p-value è: \", T[1])"
   ]
  },
  {
   "cell_type": "code",
   "execution_count": null,
   "metadata": {},
   "outputs": [],
   "source": [
    "# Alternativa: ci scriviamo la funzione\n",
    "def t_test (mean_a, mean_b, dev_a, dev_b, n_a, n_b):\n",
    "    \n",
    "    var_cong = ((n_a - 1)*(dev_a**2) + (n_b - 1)*(dev_b**2)) / (n_a + n_b - 2)\n",
    "    \n",
    "    return (mean_a - mean_b) / (np.sqrt((var_cong) * ((1/n_a) + (1/n_b))))"
   ]
  },
  {
   "cell_type": "markdown",
   "metadata": {},
   "source": [
    "# Esercizio 25"
   ]
  },
  {
   "cell_type": "code",
   "execution_count": null,
   "metadata": {},
   "outputs": [],
   "source": [
    "n_gruppi = 2\n",
    "n_femmine_ipo = 20\n",
    "n_femmine_norm = 30\n",
    "\n",
    "n_maschio_ipo = 10\n",
    "n_maschio_norm = 40\n",
    "\n",
    "freq_femmine_ipo = (n_femmine_ipo + n_maschio_ipo) / n_gruppi\n",
    "freq_maschio_ipo = (n_femmine_ipo + n_maschio_ipo) / n_gruppi\n",
    "freq_femmine_norm = (n_femmine_norm + n_maschio_norm) / n_gruppi\n",
    "freq_maschio_norm = (n_femmine_norm + n_maschio_norm) / n_gruppi\n",
    "\n",
    "chi_quadro = (((n_femmine_ipo - freq_femmine_ipo) ** 2) / freq_femmine_ipo) + \\\n",
    "(((n_femmine_norm - freq_femmine_norm) ** 2) / freq_femmine_norm) + \\\n",
    "(((n_maschio_ipo - freq_maschio_ipo) ** 2) / freq_maschio_ipo) + \\\n",
    "(((n_maschio_norm - freq_maschio_norm) ** 2) / freq_maschio_norm)\n",
    "\n",
    "print('Chi-quadro: ', chi_quadro)\n",
    "\n",
    "# chi_quadro_0.05(1) = 3.841 Dato che chi_quadro > chi_quadro_0.05(1) rifiutiamo l'ipotesi nulla"
   ]
  },
  {
   "cell_type": "markdown",
   "metadata": {},
   "source": [
    "# Esercizio 26"
   ]
  },
  {
   "cell_type": "code",
   "execution_count": null,
   "metadata": {},
   "outputs": [],
   "source": [
    "# Esercizio cibo\n",
    "\n",
    "# H0: \" i due tipi di cibo hanno lo stesso contenuto\" mu_A >= mu_B\n",
    "# H1: \"cibo B ha un contenuto superiore\" mu_A < mu_B\n",
    "\n",
    "t_cibo = t_test(1.19, 1.54, 0.26, 0.35, 28, 29)\n",
    "t_cibo\n",
    "\n",
    "# t_cibo = -4.274 t_0.05(55) = 1.673 --> abbiamo che t_cibo < t_0.05 (-4.274 < 1.673) quindi rifiutiamo H0"
   ]
  },
  {
   "cell_type": "markdown",
   "metadata": {},
   "source": [
    "# Esercizio 27"
   ]
  },
  {
   "cell_type": "code",
   "execution_count": null,
   "metadata": {},
   "outputs": [],
   "source": [
    "# Esercizio reddito\n",
    "# H0: non c'è differenza tra i due redditi mu_a = mu_b\n",
    "# H1: c'è differenza mu_a != mu_b\n",
    "\n",
    "# alfa = 0.05\n",
    "t_reddito = t_test(14000, 12500, np.sqrt(210000), np.sqrt(225000), 10, 12)\n",
    "t_reddito\n",
    "\n",
    "# t_reddito = 7.499 t_alfa/2(20) = 2.086 --> Abbiamo che t_reddito > t_alfa/2 quindi rifiutiamo H0 "
   ]
  }
 ],
 "metadata": {
  "kernelspec": {
   "display_name": "Python 3",
   "language": "python",
   "name": "python3"
  },
  "language_info": {
   "codemirror_mode": {
    "name": "ipython",
    "version": 3
   },
   "file_extension": ".py",
   "mimetype": "text/x-python",
   "name": "python",
   "nbconvert_exporter": "python",
   "pygments_lexer": "ipython3",
   "version": "3.8.2"
  }
 },
 "nbformat": 4,
 "nbformat_minor": 2
}
